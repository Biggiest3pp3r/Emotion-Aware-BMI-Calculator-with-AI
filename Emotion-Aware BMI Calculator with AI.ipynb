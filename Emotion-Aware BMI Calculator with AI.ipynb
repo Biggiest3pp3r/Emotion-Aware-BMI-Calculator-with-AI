{
 "cells": [
  {
   "cell_type": "code",
   "execution_count": null,
   "id": "f983ff7d-5b5e-4f26-aa5a-2f1ebd463f57",
   "metadata": {},
   "outputs": [
    {
     "name": "stdin",
     "output_type": "stream",
     "text": [
      "Enter your name:  shawn\n",
      "How are you feeling today (happy, sad, motivated, etc.)?  sad\n",
      "Would you like to use metric or imperial units?  metric\n",
      "Enter your weight in kilograms:  117\n"
     ]
    }
   ],
   "source": [
    "import random\n",
    "\n",
    "def calculate_bmi(weight, height, unit=\"imperial\"):\n",
    "    if unit == \"metric\":\n",
    "        bmi = weight / (height ** 2)\n",
    "    else:\n",
    "        bmi = (weight * 703) / (height * height)\n",
    "    return bmi\n",
    "\n",
    "def emotion_analysis(user_input):\n",
    "    positive_words = [\"happy\", \"motivated\", \"great\"]\n",
    "    negative_words = [\"sad\", \"tired\", \"unmotivated\"]\n",
    "    \n",
    "    if any(word in user_input.lower() for word in positive_words):\n",
    "        return \"positive\"\n",
    "    elif any(word in user_input.lower() for word in negative_words):\n",
    "        return \"negative\"\n",
    "    else:\n",
    "        return \"neutral\"\n",
    "\n",
    "def emotional_feedback(emotion, bmi):\n",
    "    if emotion == \"positive\":\n",
    "        return f\"Awesome! Keep up the good work! Your BMI is {bmi:.2f}. You're on the right track!\"\n",
    "    elif emotion == \"negative\":\n",
    "        return f\"Don't worry, it's okay to feel down sometimes. Your BMI is {bmi:.2f}. Small steps can lead to great progress!\"\n",
    "    else:\n",
    "        return f\"Your BMI is {bmi:.2f}. Keep going and take care of your health!\"\n",
    "\n",
    "# Example Flow:\n",
    "name = input(\"Enter your name: \")\n",
    "emotion = input(\"How are you feeling today (happy, sad, motivated, etc.)? \")\n",
    "\n",
    "unit = input(\"Would you like to use metric or imperial units? \").lower()\n",
    "\n",
    "if unit == \"metric\":\n",
    "    weight = float(input(\"Enter your weight in kilograms: \"))\n",
    "    height = float(input(\"Enter your height in meters: \"))\n",
    "else:\n",
    "    weight = float(input(\"Enter your weight in pounds: \"))\n",
    "    height = float(input(\"Enter your height in inches: \"))\n",
    "\n",
    "bmi = calculate_bmi(weight, height, unit)\n",
    "\n",
    "emotion_state = emotion_analysis(emotion)\n",
    "print(emotional_feedback(emotion_state, bmi))"
   ]
  },
  {
   "cell_type": "code",
   "execution_count": null,
   "id": "0e625c6c-1bc2-41f1-9a20-bc8e49253644",
   "metadata": {},
   "outputs": [],
   "source": []
  },
  {
   "cell_type": "code",
   "execution_count": null,
   "id": "f7b5f690-fc6b-4299-ad3b-a5c41cc6b8e9",
   "metadata": {},
   "outputs": [],
   "source": []
  },
  {
   "cell_type": "code",
   "execution_count": null,
   "id": "3bf68235-4ad5-4cca-99bc-07abef70364f",
   "metadata": {},
   "outputs": [],
   "source": []
  },
  {
   "cell_type": "code",
   "execution_count": null,
   "id": "fc314c51-f60d-4ac8-8091-81908769cffd",
   "metadata": {},
   "outputs": [],
   "source": []
  },
  {
   "cell_type": "code",
   "execution_count": null,
   "id": "5238191c-1082-4002-ad9e-0e330fb17b34",
   "metadata": {},
   "outputs": [],
   "source": []
  },
  {
   "cell_type": "code",
   "execution_count": null,
   "id": "dcaf0388-3b74-49cc-918f-dccca75829d8",
   "metadata": {},
   "outputs": [],
   "source": []
  },
  {
   "cell_type": "code",
   "execution_count": null,
   "id": "b8f5a34c-a036-49d1-9520-a483055d57af",
   "metadata": {},
   "outputs": [],
   "source": []
  },
  {
   "cell_type": "code",
   "execution_count": null,
   "id": "765b57cf-3782-47fb-922a-e290f1cbd016",
   "metadata": {},
   "outputs": [],
   "source": []
  },
  {
   "cell_type": "code",
   "execution_count": null,
   "id": "6a4cdde9-484a-47bd-ae72-360b1fe2762a",
   "metadata": {},
   "outputs": [],
   "source": []
  }
 ],
 "metadata": {
  "kernelspec": {
   "display_name": "Python 3 (ipykernel)",
   "language": "python",
   "name": "python3"
  },
  "language_info": {
   "codemirror_mode": {
    "name": "ipython",
    "version": 3
   },
   "file_extension": ".py",
   "mimetype": "text/x-python",
   "name": "python",
   "nbconvert_exporter": "python",
   "pygments_lexer": "ipython3",
   "version": "3.12.4"
  }
 },
 "nbformat": 4,
 "nbformat_minor": 5
}
